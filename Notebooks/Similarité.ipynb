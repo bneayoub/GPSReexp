{
  "nbformat": 4,
  "nbformat_minor": 0,
  "metadata": {
    "colab": {
      "name": "Livrables",
      "version": "0.3.2",
      "provenance": [],
      "collapsed_sections": []
    },
    "kernelspec": {
      "name": "python3",
      "display_name": "Python 3"
    }
  },
  "cells": [
    {
      "metadata": {
        "id": "PYFJL--G8xdD",
        "colab_type": "text"
      },
      "cell_type": "markdown",
      "source": [
        "# Livrables\n",
        "\n",
        "Ce notebook contient les étapes suivantes: \n",
        "\n",
        "    -Représentation d'une courbe dans un plan 2D avec un grid. \n",
        "    -Calcul de la pente de la trajectoire les grids.\n",
        "    -Determination de la direction de la courbe dans chaque cellule.\n",
        "    -Conversion de la trajectoire en une chaine de caractère."
      ]
    },
    {
      "metadata": {
        "id": "9tOKleXW-uzo",
        "colab_type": "text"
      },
      "cell_type": "markdown",
      "source": [
        "### Contexte: \n",
        "\n",
        "Pour chaque direction on affecte une chaine de caractère. Pour simplifier, mais aussi pour diminuer les erreurs, on prend en considération 8 directions dans un plan 2D. En affectant à chaque direction une lettre : [A,B,C,D,E,F,G,H]"
      ]
    },
    {
      "metadata": {
        "id": "K0KM-QeZ9W0H",
        "colab_type": "text"
      },
      "cell_type": "markdown",
      "source": [
        "## Representation d'une courbe dans un plan 2D grillé: \n",
        "\n",
        "Nous allons représenter d'abord une trajectoire simple par les points x et y sous forme des array en utilisant des grilles "
      ]
    },
    {
      "metadata": {
        "id": "HSApWYi69dMZ",
        "colab_type": "code",
        "outputId": "f2c68473-20d7-4d73-cf93-a9f4caa0b498",
        "colab": {
          "base_uri": "https://localhost:8080/",
          "height": 347
        }
      },
      "cell_type": "code",
      "source": [
        "import matplotlib.pyplot as plt \n",
        "import numpy as np\n",
        "\n",
        "\n",
        "x = np.array([0.5,3,6.6,4,3])\n",
        "y = np.array([0,1,3,5,3])\n",
        "\n",
        "\n",
        "\n",
        "plt.plot(x,y)\n",
        "plt.grid(True)\n",
        "\n"
      ],
      "execution_count": 0,
      "outputs": [
        {
          "output_type": "display_data",
          "data": {
            "image/png": "[encoded data removed]",
            "text/plain": [
              "<Figure size 576x396 with 1 Axes>"
            ]
          },
          "metadata": {
            "tags": []
          }
        }
      ]
    },
    {
      "metadata": {
        "id": "9fwVp_yK-Exj",
        "colab_type": "text"
      },
      "cell_type": "markdown",
      "source": [
        "Maintenant l'idée est de calculer la direction de la trajectoire dans chaque cellule, pour ensuite y affecter une chaine de caractère. \n",
        "\n",
        "Nous allons calculer maintenant les directions de de la trajectoire  en fonction des coordonnées "
      ]
    },
    {
      "metadata": {
        "id": "hyuh8jAT9wlH",
        "colab_type": "code",
        "outputId": "e0001a6d-bef3-4205-8195-3faac72377f8",
        "colab": {
          "base_uri": "https://localhost:8080/",
          "height": 85
        }
      },
      "cell_type": "code",
      "source": [
        "for i in range(x.size-1): \n",
        "        a = (y[i+1]-y[i])/(x[i+1]-x[i])\n",
        "        if x[i+1]-x[i]>0:\n",
        "            if  y[i+1]-y[i]>0:\n",
        "                 print(\"direction haute droite\")\n",
        "            else:\n",
        "                    print(\"direction bas droite\")\n",
        "        else:\n",
        "                if  y[i+1]-y[i]>0:\n",
        "                    print(\"direction haute gauche\")\n",
        "                else:\n",
        "                    print(\"direction bas gauche\")"
      ],
      "execution_count": 0,
      "outputs": [
        {
          "output_type": "stream",
          "text": [
            "direction haute droite\n",
            "direction haute droite\n",
            "direction haute gauche\n",
            "direction bas gauche\n"
          ],
          "name": "stdout"
        }
      ]
    },
    {
      "metadata": {
        "id": "3kwp219nJvOX",
        "colab_type": "text"
      },
      "cell_type": "markdown",
      "source": [
        "Mainetant avec les pentes ! "
      ]
    },
    {
      "metadata": {
        "id": "WJGPyYHLIXfn",
        "colab_type": "code",
        "outputId": "eb47a1f2-a1f3-4a00-9c5a-d0ba8e7a052f",
        "colab": {
          "base_uri": "https://localhost:8080/",
          "height": 551
        }
      },
      "cell_type": "code",
      "source": [
        "import math \n",
        "\n",
        "\n",
        "xt = np.array([0.5,3,4,6,7.4])\n",
        "yt = np.array([0,1,3,5,3])\n",
        "for i in range(xt.size-1): \n",
        "        a = (yt[i+1]-yt[i])/(xt[i+1]-xt[i])\n",
        "        if xt[i+1]-xt[i]>0:\n",
        "            if  yt[i+1]-yt[i]>0:\n",
        "                print(\"direction haute \")\n",
        "            else:\n",
        "                print(\"direction bas \")\n",
        "                   # print(math.atan())\n",
        "        print('pente : ' ,+ a)\n",
        "        print( ' angle de pente : ', math.atan(a)     )\n",
        "\n",
        "#y = np.array[2,3,5]\n",
        "#plt.xlim(x[0],x[-1])\n",
        "#plt.ylim(y[0],y[-1])\n",
        "#ax = plt.gca()\n",
        "#minor_ticks = np.arange(5,8,3)\n",
        "#ax.set_yticks(minor_ticks, minor=True)\n",
        "#ax.yaxis.grid(which='minor')\n",
        "plt.plot(xt,yt)\n",
        "plt.grid(True)"
      ],
      "execution_count": 0,
      "outputs": [
        {
          "output_type": "stream",
          "text": [
            "direction haute \n",
            "pente :  0.4\n",
            " angle de pente :  0.3805063771123649\n",
            "direction haute \n",
            "pente :  2.0\n",
            " angle de pente :  1.1071487177940904\n",
            "direction haute \n",
            "pente :  1.0\n",
            " angle de pente :  0.7853981633974483\n",
            "direction bas \n",
            "pente :  -1.4285714285714282\n",
            " angle de pente :  -0.9600703624056879\n"
          ],
          "name": "stdout"
        },
        {
          "output_type": "display_data",
          "data": {
            "image/png": "[encoded data removed]",
            "text/plain": [
              "<Figure size 576x396 with 1 Axes>"
            ]
          },
          "metadata": {
            "tags": []
          }
        }
      ]
    },
    {
      "metadata": {
        "id": "o42J8yB-NBmM",
        "colab_type": "text"
      },
      "cell_type": "markdown",
      "source": [
        "### Application à une trajectoire\n",
        "\n",
        "Pour la suite, on va travailler sur un un grid 16 x 16 pour unifier le contexte. Et puis on travaillera avec une transformation spatiale (temporelle plus tard) pour ramener une trajectoire simple quelconque en une trajectoire sur un plan 2D 16 x 16. "
      ]
    },
    {
      "metadata": {
        "id": "rCOIQOftM-rG",
        "colab_type": "code",
        "outputId": "fb340873-9c64-49cb-c394-2637addbc642",
        "colab": {
          "base_uri": "https://localhost:8080/",
          "height": 340
        }
      },
      "cell_type": "code",
      "source": [
        "import matplotlib.pyplot as pp \n",
        "import numpy as np \n",
        "\n",
        "def resadjust(ax, xres=None, yres=None): \n",
        "    \"\"\" \n",
        "    Send in an axis and I fix the resolution as desired. \n",
        "    \"\"\" \n",
        "\n",
        "    if xres: \n",
        "      start, stop = ax.get_xlim() \n",
        "      ticks = np.arange(start, stop + xres, xres) \n",
        "      ax.set_xticks(ticks) \n",
        "    if yres: \n",
        "      start, stop = ax.get_ylim() \n",
        "      ticks = np.arange(start, stop + yres, yres) \n",
        "      ax.set_yticks(ticks) \n",
        "\n",
        "plt.plot()\n",
        "plt.xlim([0, 16])\n",
        "plt.ylim([0, 16])\n",
        "ax=plt.axes()\n",
        "\n",
        "resadjust(ax,1,1)\n",
        "plt.grid(True)\n",
        "\n",
        "plt.show()"
      ],
      "execution_count": 0,
      "outputs": [
        {
          "output_type": "stream",
          "text": [
            "/usr/local/lib/python3.6/dist-packages/matplotlib/figure.py:98: MatplotlibDeprecationWarning: \n",
            "Adding an axes using the same arguments as a previous axes currently reuses the earlier instance.  In a future version, a new instance will always be created and returned.  Meanwhile, this warning can be suppressed, and the future behavior ensured, by passing a unique label to each axes instance.\n",
            "  \"Adding an axes using the same arguments as a previous axes \"\n"
          ],
          "name": "stderr"
        },
        {
          "output_type": "display_data",
          "data": {
            "image/png": "[encoded data removed]",
            "text/plain": [
              "<Figure size 432x288 with 1 Axes>"
            ]
          },
          "metadata": {
            "tags": []
          }
        }
      ]
    },
    {
      "metadata": {
        "id": "cbS2dX2watVc",
        "colab_type": "text"
      },
      "cell_type": "markdown",
      "source": [
        "En premier lieu, on va travailler avec une transformation linéaire simple. Etant donné une trajectoire de coordonnée X, Y (deux np array). Si max(X,Y) dépasse 16 (L'unité de travail que ça soit des mètres ou des Kilo mètres), alors on fait les opérations: \n",
        "\\begin{equation}\n",
        "\\frac{16X}{max(X,Y)},\n",
        "\\frac{16Y}{max(X,Y)}\n",
        "\\end{equation}\n"
      ]
    },
    {
      "metadata": {
        "id": "4U-4oqTTXpTu",
        "colab_type": "code",
        "outputId": "0e68eb8c-0d0c-4d4c-b303-9704a71f59a0",
        "colab": {
          "base_uri": "https://localhost:8080/",
          "height": 51
        }
      },
      "cell_type": "code",
      "source": [
        "def transform(X,Y):\n",
        "  if max(X)>=16 or max(Y)>=16: \n",
        "    if max(X)>=max(Y):\n",
        "      X=X*16/max(X)\n",
        "      Y=Y*16/max(X)\n",
        "      return X,Y\n",
        "    if max(Y)>=max(X):\n",
        "      X=X*16/max(Y)\n",
        "      Y=Y*16/max(Y)\n",
        "      return X,Y\n",
        "  return X,Y\n",
        "\n",
        "y = np.array([1, 13, 34, 26])\n",
        "x = np.array([2, 3, 25, 17])\n",
        "\n",
        "transform(x,y)"
      ],
      "execution_count": 0,
      "outputs": [
        {
          "output_type": "execute_result",
          "data": {
            "text/plain": [
              "(array([ 0.94117647,  1.41176471, 11.76470588,  8.        ]),\n",
              " array([ 0.47058824,  6.11764706, 16.        , 12.23529412]))"
            ]
          },
          "metadata": {
            "tags": []
          },
          "execution_count": 8
        }
      ]
    },
    {
      "metadata": {
        "id": "wgkvEEkDZtsG",
        "colab_type": "text"
      },
      "cell_type": "markdown",
      "source": [
        "### Interpolation avec python "
      ]
    },
    {
      "metadata": {
        "id": "eKBbh8PEZpJV",
        "colab_type": "code",
        "outputId": "5d5f8902-276f-47cc-ddb5-31b49eb572f5",
        "colab": {
          "base_uri": "https://localhost:8080/",
          "height": 357
        }
      },
      "cell_type": "code",
      "source": [
        "x = np.array([1,3, 4, 6, 8, 10,15 ,17, 21])\n",
        "y = np.array([2, 3, 5, 5, 12, 13, 15.5, 15, 9])\n",
        "print(np.interp(6, x, y))  #interpolation au point 5\n",
        "\n",
        "plt.plot()\n",
        "plt.xlim([0, 16])\n",
        "plt.ylim([0, 16])\n",
        "ax=plt.axes()\n",
        "\n",
        "resadjust(ax,1,1)\n",
        "plt.grid(True)\n",
        "\n",
        "plt.plot(transform(x,y)[0],transform(x,y)[1])\n",
        "plt.show()"
      ],
      "execution_count": 0,
      "outputs": [
        {
          "output_type": "stream",
          "text": [
            "5.0\n"
          ],
          "name": "stdout"
        },
        {
          "output_type": "stream",
          "text": [
            "/usr/local/lib/python3.6/dist-packages/matplotlib/figure.py:98: MatplotlibDeprecationWarning: \n",
            "Adding an axes using the same arguments as a previous axes currently reuses the earlier instance.  In a future version, a new instance will always be created and returned.  Meanwhile, this warning can be suppressed, and the future behavior ensured, by passing a unique label to each axes instance.\n",
            "  \"Adding an axes using the same arguments as a previous axes \"\n"
          ],
          "name": "stderr"
        },
        {
          "output_type": "display_data",
          "data": {
            "image/png": "[encoded data removed]",
            "text/plain": [
              "<Figure size 432x288 with 1 Axes>"
            ]
          },
          "metadata": {
            "tags": []
          }
        }
      ]
    },
    {
      "metadata": {
        "id": "GiJ7iCHNd0EK",
        "colab_type": "text"
      },
      "cell_type": "markdown",
      "source": [
        "### Calcul des pentes dans chaque case après la transofrmation: "
      ]
    },
    {
      "metadata": {
        "id": "9No_HZxiu71j",
        "colab_type": "code",
        "colab": {}
      },
      "cell_type": "code",
      "source": [
        "def calculPente(X,Y):\n",
        "  L=[]\n",
        "  pentes=[]\n",
        "  angles=[]\n",
        "  for i in range(16): \n",
        "    L.append(np.interp(i,X,Y))\n",
        "  for i in range(15):\n",
        "    pentes.append(L[i+1]-L[i])\n",
        "    angles.append(math.atan(L[i+1]-L[i]))\n",
        "  return pentes,angles"
      ],
      "execution_count": 0,
      "outputs": []
    },
    {
      "metadata": {
        "id": "4FdO0ZVGWvTD",
        "colab_type": "code",
        "outputId": "ada4bad7-fab5-4ad4-d824-a609c986da49",
        "colab": {
          "base_uri": "https://localhost:8080/",
          "height": 54
        }
      },
      "cell_type": "code",
      "source": [
        "import math \n",
        "x = np.array([1,3, 4, 6, 8, 10,15 ,17, 21])\n",
        "y = np.array([2, 3, 5, 5, 12, 14, 16, 1, 9])\n",
        "\n",
        "print(calculPente(transform(x,y)[0],transform(x,y)[1]))"
      ],
      "execution_count": 0,
      "outputs": [
        {
          "output_type": "stream",
          "text": [
            "([0.15625, 0.65625, 2.0625, 0.125, 1.9687500000000009, 4.593749999999999, 1.625, 1.0124999999999993, 0.5250000000000004, 0.5250000000000004, 0.5250000000000004, -5.399999999999997, -9.250000000000004, 2.625, 2.6250000000000004], [0.15499674192394097, 0.5807563535676704, 1.1193432352423422, 0.12435499454676144, 1.100819688377889, 1.3564532371386109, 1.0191413442663497, 0.7916092636503143, 0.4834470015671993, 0.4834470015671993, 0.4834470015671993, -1.3876855095324123, -1.463106455962076, 1.2068173702852525, 1.2068173702852525])\n"
          ],
          "name": "stdout"
        }
      ]
    },
    {
      "metadata": {
        "id": "K16slafQd_Vi",
        "colab_type": "text"
      },
      "cell_type": "markdown",
      "source": [
        "### Conversion en chaine de caractères: \n",
        "\n",
        "Dans cette partie, on effectue la conversion en chaine de caractères de notre trajectoire."
      ]
    },
    {
      "metadata": {
        "id": "U7QttYpUcy7I",
        "colab_type": "code",
        "colab": {}
      },
      "cell_type": "code",
      "source": [
        "def convert(list):\n",
        "  # Converting integer list to string list \n",
        "  s = [str(i) for i in list] \n",
        "      \n",
        "  # Join list items using join() \n",
        "  res = \"\".join(s)\n",
        "      \n",
        "  return(res)\n",
        "\n",
        "def conversionStr(X,Y):\n",
        "  L=[]\n",
        "  for i in range(15):\n",
        "    L.append(np.interp(i,X,Y))\n",
        "  \n",
        "  List=[0]*16\n",
        "  for i in range(15):\n",
        "    if 5 < calculPente(transform(x,y)[0],transform(x,y)[1])[0][i]: \n",
        "      L[i]='A'\n",
        "    if 0 < calculPente(transform(x,y)[0],transform(x,y)[1])[0][i] < 5 and calculPente(transform(x,y)[0],transform(x,y)[1])[1][i] > 0:\n",
        "      L[i]='B'\n",
        "    if calculPente(transform(x,y)[0],transform(x,y)[1])[0][i] == 0 and calculPente(transform(x,y)[0],transform(x,y)[1])[0][i]> 0:\n",
        "      L[i]='C'\n",
        "    if -5 <calculPente(transform(x,y)[0],transform(x,y)[1])[0][i] < 0  and calculPente(transform(x,y)[0],transform(x,y)[1])[0][i] > 0: \n",
        "      L[i]='D'\n",
        "    if calculPente(transform(x,y)[0],transform(x,y)[1])[0][i] <-5 : \n",
        "      L[i]='E'\n",
        "    if 0 < calculPente(transform(x,y)[0],transform(x,y)[1])[0][i] < 5 and calculPente(transform(x,y)[0],transform(x,y)[1])[0][i] <0 :\n",
        "      L[i]='F'\n",
        "    if calculPente(transform(x,y)[0],transform(x,y)[1])[0][i] == 0 and calculPente(transform(x,y)[0],transform(x,y)[1])[0][i] <0 :\n",
        "      L[i]='G'\n",
        "    if -5 <calculPente(transform(x,y)[0],transform(x,y)[1])[0][i] < 0  calculPente(transform(x,y)[0],transform(x,y)[1])[0][i] <0 : \n",
        "      L[i]='H'\n",
        "  return convert(L)"
      ],
      "execution_count": 0,
      "outputs": []
    },
    {
      "metadata": {
        "id": "0HHnZzNPefI6",
        "colab_type": "code",
        "outputId": "fe8f305a-8713-4e10-deb2-3e6afb4c6c98",
        "colab": {
          "base_uri": "https://localhost:8080/",
          "height": 364
        }
      },
      "cell_type": "code",
      "source": [
        "print(conversionStr(x,y))\n",
        "plt.plot(transform(x,y)[0],transform(x,y)[1])\n",
        "plt.show()"
      ],
      "execution_count": 0,
      "outputs": [
        {
          "output_type": "stream",
          "text": [
            "BBBBBBBBBBBEEBB\n"
          ],
          "name": "stdout"
        },
        {
          "output_type": "display_data",
          "data": {
            "image/png": "[encoded data removed]",
            "text/plain": [
              "<Figure size 576x396 with 1 Axes>"
            ]
          },
          "metadata": {
            "tags": []
          }
        }
      ]
    },
    {
      "metadata": {
        "id": "sDBf2LU-LpLM",
        "colab_type": "text"
      },
      "cell_type": "markdown",
      "source": [
        "### L'algorithme Levenstein: \n",
        "\n",
        "Après avoir transformé la trajectoire en chaine de caractères, il est maintenant nécessaires de déployer l'algorithme de Levenstein pour comparer deux chaines de caractères, et puis de trouver les similarités. "
      ]
    },
    {
      "metadata": {
        "id": "fwDDHQn4ML8s",
        "colab_type": "code",
        "colab": {}
      },
      "cell_type": "code",
      "source": [
        "def levenshtein(s1, s2):\n",
        "    if len(s1) < len(s2):\n",
        "        return levenshtein(s2, s1)\n",
        "\n",
        "    # len(s1) >= len(s2)\n",
        "    if len(s2) == 0:\n",
        "        return len(s1)\n",
        "\n",
        "    previous_row = range(len(s2) + 1)\n",
        "    for i, c1 in enumerate(s1):\n",
        "        current_row = [i + 1]\n",
        "        for j, c2 in enumerate(s2):\n",
        "            insertions = previous_row[j + 1] + 1 \n",
        "            deletions = current_row[j] + 1\n",
        "            substitutions = previous_row[j] + (c1 != c2)\n",
        "            current_row.append(min(insertions, deletions, substitutions))\n",
        "        previous_row = current_row\n",
        "    \n",
        "    return previous_row[-1]"
      ],
      "execution_count": 0,
      "outputs": []
    },
    {
      "metadata": {
        "id": "pjXd1DYbMk35",
        "colab_type": "text"
      },
      "cell_type": "markdown",
      "source": [
        "On teste sur deux chaines de caractères: "
      ]
    },
    {
      "metadata": {
        "id": "VoYH4yv0MkLE",
        "colab_type": "code",
        "outputId": "0430afe3-523c-4f74-e4f6-ccb5f7b6c640",
        "colab": {
          "base_uri": "https://localhost:8080/",
          "height": 34
        }
      },
      "cell_type": "code",
      "source": [
        "s1= 'ADFHRT'\n",
        "s2= 'BCDRTG'\n",
        "\n",
        "levenshtein(s1,s2)\n",
        "\n"
      ],
      "execution_count": 0,
      "outputs": [
        {
          "output_type": "execute_result",
          "data": {
            "text/plain": [
              "5"
            ]
          },
          "metadata": {
            "tags": []
          },
          "execution_count": 102
        }
      ]
    },
    {
      "metadata": {
        "id": "LyXoK8JiM4aq",
        "colab_type": "text"
      },
      "cell_type": "markdown",
      "source": [
        "Il faut donc faire 5 opérations pour transformer s1 en s2."
      ]
    },
    {
      "metadata": {
        "id": "QCpp_n-PqUX7",
        "colab_type": "code",
        "outputId": "f179295d-d0b3-4431-acb7-fc32fca848de",
        "colab": {
          "base_uri": "https://localhost:8080/",
          "height": 51
        }
      },
      "cell_type": "code",
      "source": [
        "print(levenshtein('DBAB','BCDAD'))\n",
        "\n",
        "print(levenshtein('BCDAD','BADEB'))"
      ],
      "execution_count": 0,
      "outputs": [
        {
          "output_type": "stream",
          "text": [
            "4\n",
            "3\n"
          ],
          "name": "stdout"
        }
      ]
    },
    {
      "metadata": {
        "id": "bx8LVGgUADMZ",
        "colab_type": "text"
      },
      "cell_type": "markdown",
      "source": [
        "### Levenstein appliqué à un jeu de donnée: \n",
        "\n",
        "On génére un jeu de donnée artificiel, et on classe les similarités avec une trajectoire primaire. "
      ]
    },
    {
      "metadata": {
        "id": "wMHFDOSIZcya",
        "colab_type": "code",
        "outputId": "7a515072-82b3-47dc-f156-2edf4c766b2d",
        "colab": {
          "base_uri": "https://localhost:8080/",
          "height": 473
        }
      },
      "cell_type": "code",
      "source": [
        "traj_A = np.array([[1.39534, 17.77678],[7.3992 , 8.77631],[9.40235, 4.77594],[23.40553, 9.77848],\n",
        "                   [24.40801, 27.78043],[28.40837, 37.78066]])\n",
        "\n",
        "traj_B = np.array([[1.39534, 1.77678],[7.3992 , 3.77631],[9.40235, 15.77594],[23.40553, 9.77848],\n",
        "                   [24.40801, 4.78043],[28.40837, 13.78066]])\n",
        "\n",
        "traj_C = np.array([[1.39534, 5.77678],[6.3992 , 15.77631],[8.40235, 15.77594],[16.40553, 8.77848],\n",
        "                   [16.40801, 12.78043],[18.40837, 9.78066]])\n",
        "\n",
        "traj_list = [traj_A, traj_B, traj_C]\n",
        "\n",
        "LA1=np.array([traj_A[i][0] for i in range(len(traj_A))])\n",
        "LA2=np.array([traj_A[i][1] for i in range(len(traj_A))])\n",
        "\n",
        "LB1=np.array([traj_B[i][0] for i in range(len(traj_B))])\n",
        "LB2=np.array([traj_B[i][1] for i in range(len(traj_B))])\n",
        "\n",
        "LC1=np.array([traj_C[i][0] for i in range(len(traj_C))])\n",
        "LC2=np.array([traj_C[i][1] for i in range(len(traj_C))])\n",
        "\n",
        "plt.xlim([0, 16])\n",
        "plt.ylim([0, 16])\n",
        "ax=plt.axes()\n",
        "\n",
        "resadjust(ax,1,1)\n",
        "plt.grid(True)\n",
        "\n",
        "print(transform(LA1,LA2))\n",
        "plt.plot(transform(LA1,LA2)[0],transform(LA1,LA2)[1])\n",
        "plt.show()\n",
        "#Traj_A\n"
      ],
      "execution_count": 0,
      "outputs": [
        {
          "output_type": "stream",
          "text": [
            "/usr/local/lib/python3.6/dist-packages/matplotlib/figure.py:98: MatplotlibDeprecationWarning: \n",
            "Adding an axes using the same arguments as a previous axes currently reuses the earlier instance.  In a future version, a new instance will always be created and returned.  Meanwhile, this warning can be suppressed, and the future behavior ensured, by passing a unique label to each axes instance.\n",
            "  \"Adding an axes using the same arguments as a previous axes \"\n"
          ],
          "name": "stderr"
        },
        {
          "output_type": "stream",
          "text": [
            "(array([ 0.59092245,  3.13353975,  3.98186797,  9.91217411, 10.33672149,\n",
            "       12.03086235]), array([ 7.5284148 ,  3.71674185,  2.02259675,  4.14115794, 11.76493158,\n",
            "       16.        ]))\n"
          ],
          "name": "stdout"
        },
        {
          "output_type": "display_data",
          "data": {
            "image/png": "[encoded data removed]",
            "text/plain": [
              "<Figure size 576x396 with 1 Axes>"
            ]
          },
          "metadata": {
            "tags": []
          }
        }
      ]
    },
    {
      "metadata": {
        "id": "ywcBzMZNcEsW",
        "colab_type": "code",
        "outputId": "cf08f5d4-d05d-448b-b380-b6188fa442e5",
        "colab": {
          "base_uri": "https://localhost:8080/",
          "height": 456
        }
      },
      "cell_type": "code",
      "source": [
        "plt.xlim([0, 16])\n",
        "plt.ylim([0, 16])\n",
        "ax=plt.axes()\n",
        "\n",
        "resadjust(ax,1,1)\n",
        "plt.grid(True)\n",
        "\n",
        "print(transform(LB1,LB2))\n",
        "plt.plot(transform(LB1,LB2)[0],transform(LB1,LB2)[1])\n",
        "plt.show()\n",
        "\n",
        " #Traj_B"
      ],
      "execution_count": 0,
      "outputs": [
        {
          "output_type": "stream",
          "text": [
            "/usr/local/lib/python3.6/dist-packages/matplotlib/figure.py:98: MatplotlibDeprecationWarning: \n",
            "Adding an axes using the same arguments as a previous axes currently reuses the earlier instance.  In a future version, a new instance will always be created and returned.  Meanwhile, this warning can be suppressed, and the future behavior ensured, by passing a unique label to each axes instance.\n",
            "  \"Adding an axes using the same arguments as a previous axes \"\n"
          ],
          "name": "stderr"
        },
        {
          "output_type": "stream",
          "text": [
            "(array([ 0.78587543,  4.16733519,  5.2955379 , 13.18232901, 13.74694007,\n",
            "       16.        ]), array([ 1.77678,  3.77631, 15.77594,  9.77848,  4.78043, 13.78066]))\n"
          ],
          "name": "stdout"
        },
        {
          "output_type": "display_data",
          "data": {
            "image/png": "[encoded data removed]",
            "text/plain": [
              "<Figure size 576x396 with 1 Axes>"
            ]
          },
          "metadata": {
            "tags": []
          }
        }
      ]
    },
    {
      "metadata": {
        "id": "EN-52ppPhw72",
        "colab_type": "code",
        "outputId": "ee5385c2-83fd-4e36-fbe3-b7e68f9d07e8",
        "colab": {
          "base_uri": "https://localhost:8080/",
          "height": 456
        }
      },
      "cell_type": "code",
      "source": [
        "plt.xlim([0, 16])\n",
        "plt.ylim([0, 16])\n",
        "ax=plt.axes()\n",
        "\n",
        "resadjust(ax,1,1)\n",
        "plt.grid(True)\n",
        "\n",
        "print(transform(LC1,LC2))\n",
        "plt.plot(transform(LC1,LC2)[0],transform(LC1,LC2)[1])\n",
        "plt.show()\n",
        "\n",
        "#Traj_C"
      ],
      "execution_count": 0,
      "outputs": [
        {
          "output_type": "stream",
          "text": [
            "/usr/local/lib/python3.6/dist-packages/matplotlib/figure.py:98: MatplotlibDeprecationWarning: \n",
            "Adding an axes using the same arguments as a previous axes currently reuses the earlier instance.  In a future version, a new instance will always be created and returned.  Meanwhile, this warning can be suppressed, and the future behavior ensured, by passing a unique label to each axes instance.\n",
            "  \"Adding an axes using the same arguments as a previous axes \"\n"
          ],
          "name": "stderr"
        },
        {
          "output_type": "stream",
          "text": [
            "(array([ 1.21278744,  5.56199164,  7.3030692 , 14.25919188, 14.26134742,\n",
            "       16.        ]), array([ 5.77678, 15.77631, 15.77594,  8.77848, 12.78043,  9.78066]))\n"
          ],
          "name": "stdout"
        },
        {
          "output_type": "display_data",
          "data": {
            "image/png": "[encoded data removed]",
            "text/plain": [
              "<Figure size 576x396 with 1 Axes>"
            ]
          },
          "metadata": {
            "tags": []
          }
        }
      ]
    },
    {
      "metadata": {
        "id": "FmwsFNITjIhs",
        "colab_type": "code",
        "outputId": "74619e41-bbd3-4ab0-eace-5af0f7379d18",
        "colab": {
          "base_uri": "https://localhost:8080/",
          "height": 68
        }
      },
      "cell_type": "code",
      "source": [
        "print(conversionStr(LA1,LA2))\n",
        "\n",
        "print(conversionStr(LB1,LB2))\n",
        "\n",
        "print(conversionStr(LC1,LC2))\n"
      ],
      "execution_count": 0,
      "outputs": [
        {
          "output_type": "stream",
          "text": [
            "BBBBBBBBBBBEEBB\n",
            "BBBBBBBBBBBEEBB\n",
            "BBBBBBBBBBBEEBB\n"
          ],
          "name": "stdout"
        }
      ]
    },
    {
      "metadata": {
        "id": "cQx5C1p4jiOh",
        "colab_type": "code",
        "outputId": "97264d4a-87f3-427b-99f4-538998f0b9df",
        "colab": {
          "base_uri": "https://localhost:8080/",
          "height": 34
        }
      },
      "cell_type": "code",
      "source": [
        "levenshtein(conversionStr(LA1,LA2), conversionStr(x,y))"
      ],
      "execution_count": 0,
      "outputs": [
        {
          "output_type": "execute_result",
          "data": {
            "text/plain": [
              "0"
            ]
          },
          "metadata": {
            "tags": []
          },
          "execution_count": 97
        }
      ]
    }
  ]
}